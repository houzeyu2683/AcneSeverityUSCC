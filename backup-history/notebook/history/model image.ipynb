{
 "cells": [
  {
   "cell_type": "code",
   "execution_count": 1,
   "metadata": {},
   "outputs": [],
   "source": [
    "from tensorflow.keras import layers\n",
    "from tensorflow.keras import applications\n",
    "from tensorflow.keras.models import Model"
   ]
  },
  {
   "cell_type": "code",
   "execution_count": 2,
   "metadata": {},
   "outputs": [
    {
     "name": "stdout",
     "output_type": "stream",
     "text": [
      "INFO:tensorflow:Assets written to: resnet-image-model/assets\n"
     ]
    }
   ],
   "source": [
    "backbone = applications.resnet50.ResNet50(weights='imagenet')\n",
    "model = Model(backbone.input, layers.Dense(2, \"softmax\")(backbone.layers[-2].output))\n",
    "model.save(\"resnet-image-model\")"
   ]
  },
  {
   "cell_type": "code",
   "execution_count": 3,
   "metadata": {},
   "outputs": [
    {
     "name": "stdout",
     "output_type": "stream",
     "text": [
      "INFO:tensorflow:Assets written to: densenet-image-model/assets\n"
     ]
    }
   ],
   "source": [
    "backbone = applications.DenseNet121(weights='imagenet')\n",
    "model = Model(backbone.input, layers.Dense(2, \"softmax\")(backbone.layers[-2].output))\n",
    "model.save(\"densenet-image-model\")"
   ]
  },
  {
   "cell_type": "code",
   "execution_count": 4,
   "metadata": {},
   "outputs": [
    {
     "name": "stdout",
     "output_type": "stream",
     "text": [
      "INFO:tensorflow:Assets written to: mobilenet-image-model/assets\n"
     ]
    }
   ],
   "source": [
    "backbone = applications.MobileNetV2(weights='imagenet')\n",
    "model = Model(backbone.input, layers.Dense(2, \"softmax\")(backbone.layers[-2].output))\n",
    "model.save(\"mobilenet-image-model\")"
   ]
  },
  {
   "cell_type": "markdown",
   "metadata": {},
   "source": [
    "---"
   ]
  }
 ],
 "metadata": {
  "interpreter": {
   "hash": "52c2d9577c3ae93f164c9f95b2860fd320105e868bfaa6ef38214209ec54a631"
  },
  "kernelspec": {
   "display_name": "Python 3.7.11 64-bit ('DL': conda)",
   "language": "python",
   "name": "python3"
  },
  "language_info": {
   "codemirror_mode": {
    "name": "ipython",
    "version": 3
   },
   "file_extension": ".py",
   "mimetype": "text/x-python",
   "name": "python",
   "nbconvert_exporter": "python",
   "pygments_lexer": "ipython3",
   "version": "3.6.13"
  },
  "orig_nbformat": 4
 },
 "nbformat": 4,
 "nbformat_minor": 2
}
