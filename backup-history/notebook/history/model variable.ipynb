{
 "cells": [
  {
   "cell_type": "code",
   "execution_count": 1,
   "metadata": {},
   "outputs": [],
   "source": [
    "from tensorflow import keras\n",
    "from tensorflow.keras import layers, Sequential\n",
    "from tensorflow.keras import applications\n",
    "from tensorflow.keras.models import Model"
   ]
  },
  {
   "cell_type": "code",
   "execution_count": 2,
   "metadata": {},
   "outputs": [
    {
     "name": "stdout",
     "output_type": "stream",
     "text": [
      "INFO:tensorflow:Assets written to: default-variable-model/assets\n"
     ]
    }
   ],
   "source": [
    "model = Sequential()\n",
    "model.add(keras.Input(shape=(27,)))\n",
    "model.add(layers.Dense(64, activation=\"relu\"))\n",
    "model.add(layers.Dense(128, activation=\"relu\"))\n",
    "model.add(layers.Dense(256, activation=\"relu\"))\n",
    "model.add(layers.Dense(512, activation=\"relu\"))\n",
    "model.add(layers.Dense(256, activation=\"relu\"))\n",
    "model.add(layers.Dense(128, activation=\"relu\"))\n",
    "model.add(layers.Dense(64, activation=\"relu\"))\n",
    "model.add(layers.Dense(2, activation=\"softmax\"))\n",
    "model.save('default-variable-model')"
   ]
  },
  {
   "cell_type": "code",
   "execution_count": null,
   "metadata": {},
   "outputs": [],
   "source": [
    "# model = Sequential()\n",
    "# model.add(keras.Input(shape=(10,)))\n",
    "# model.add(layers.Dense(64, activation=\"relu\"))\n",
    "# model.add(layers.Dense(128, activation=\"relu\"))\n",
    "# model.add(layers.Dense(256, activation=\"relu\"))\n",
    "# model.add(layers.Dense(512, activation=\"relu\"))\n",
    "# model.add(layers.Dense(256, activation=\"relu\"))\n",
    "# model.add(layers.Dense(128, activation=\"relu\"))\n",
    "# model.add(layers.Dense(64, activation=\"relu\"))\n",
    "# model.add(layers.Dense(2, activation=\"softmax\"))\n",
    "# model.save('binary-variable-model')"
   ]
  },
  {
   "cell_type": "markdown",
   "metadata": {},
   "source": [
    "---"
   ]
  }
 ],
 "metadata": {
  "interpreter": {
   "hash": "52c2d9577c3ae93f164c9f95b2860fd320105e868bfaa6ef38214209ec54a631"
  },
  "kernelspec": {
   "display_name": "Python 3.7.11 64-bit ('DL': conda)",
   "language": "python",
   "name": "python3"
  },
  "language_info": {
   "codemirror_mode": {
    "name": "ipython",
    "version": 3
   },
   "file_extension": ".py",
   "mimetype": "text/x-python",
   "name": "python",
   "nbconvert_exporter": "python",
   "pygments_lexer": "ipython3",
   "version": "3.6.13"
  },
  "orig_nbformat": 4
 },
 "nbformat": 4,
 "nbformat_minor": 2
}
