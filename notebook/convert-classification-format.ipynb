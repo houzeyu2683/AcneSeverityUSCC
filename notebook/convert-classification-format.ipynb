{
 "cells": [
  {
   "cell_type": "code",
   "execution_count": 1,
   "metadata": {},
   "outputs": [],
   "source": [
    "# import labelbox\n",
    "import os\n",
    "# import dotenv\n",
    "# import requests\n",
    "import tqdm\n",
    "# import io\n",
    "import pandas\n",
    "import cv2\n",
    "import matplotlib.pyplot\n",
    "import PIL.Image\n",
    "import json\n",
    "import sklearn.model_selection\n",
    "import yaml\n",
    "import os\n",
    "import numpy\n",
    "import time\n",
    "import random\n",
    "# from contextlib import suppress\n",
    "# from xml.dom.minidom import parseString\n",
    "# from lxml.etree import Element, SubElement, tostring\n",
    "%matplotlib inline"
   ]
  },
  {
   "cell_type": "code",
   "execution_count": 2,
   "metadata": {},
   "outputs": [],
   "source": [
    "HERE   = 'notebook'\n",
    "ROOT   = os.getcwd().replace(HERE, \"\")\n",
    "SOURCE = 'resource/caries/labelbox'"
   ]
  },
  {
   "cell_type": "code",
   "execution_count": 3,
   "metadata": {},
   "outputs": [],
   "source": [
    "index = {'data':None, 'train':None, 'validation':None, 'test':None}\n",
    "index['data'] = pandas.read_csv(os.path.join(ROOT, 'resource/caries', 'identification.txt'), header=None)[0].tolist()\n",
    "index['train'], other = sklearn.model_selection.train_test_split(index['data'], test_size=0.2, random_state=0)\n",
    "index['validation'], index['test'] = sklearn.model_selection.train_test_split(other, test_size=0.5, random_state=0)"
   ]
  },
  {
   "cell_type": "code",
   "execution_count": 4,
   "metadata": {},
   "outputs": [
    {
     "name": "stdout",
     "output_type": "stream",
     "text": [
      "['2377', '882A', '221', '7550', '1421', '8491']\n",
      "['1246E', '480E', '8594', '2188f', '7276B', 'N1100']\n",
      "['7769B', '1782D', '8534', '1550', '1421d', '2425']\n"
     ]
    }
   ],
   "source": [
    "print(index['train'][:6])\n",
    "print(index['validation'][:6])\n",
    "print(index['test'][:6])"
   ]
  },
  {
   "cell_type": "code",
   "execution_count": 5,
   "metadata": {},
   "outputs": [],
   "source": [
    "for mode in ['train', \"validation\", 'test']:\n",
    "\n",
    "    loop = index[mode]\n",
    "    for i in loop:\n",
    "        \n",
    "        skip = False\n",
    "        try:\n",
    "\n",
    "            image = PIL.Image.open(os.path.join(ROOT, SOURCE, 'jpg', \"{}.jpg\".format(i)))\n",
    "            annotation = pandas.read_csv(os.path.join(ROOT, SOURCE, 'txt', \"{}.txt\".format(i)), sep=\" \", header=None)\n",
    "            pass\n",
    "\n",
    "        except:\n",
    "\n",
    "            skip = True\n",
    "            pass\n",
    "\n",
    "        if(not skip):\n",
    "\n",
    "            for number, item in annotation.iterrows():\n",
    "\n",
    "                storage = os.path.join(ROOT, 'resource/caries/classification/{}/{}'.format(mode, item[0]))\n",
    "                os.makedirs(storage, exist_ok=True)\n",
    "                (x, y, w, h) = item[1:].tolist()\n",
    "                thing = image.crop((x, y, x+w, y+h))\n",
    "                thing.save(os.path.join(storage, '{}_{}.jpg'.format(i, number)))\n",
    "                pass\n",
    "            \n",
    "            pass\n",
    "\n",
    "        continue"
   ]
  },
  {
   "cell_type": "markdown",
   "metadata": {},
   "source": [
    "---"
   ]
  },
  {
   "cell_type": "code",
   "execution_count": 28,
   "metadata": {},
   "outputs": [],
   "source": [
    "os.makedirs('../resource/caries/labelbox/txt/', exist_ok=True)\n",
    "for i in os.listdir('../resource/caries/labelbox/txt-skip/'):\n",
    "    \n",
    "    try:\n",
    "        r = pandas.read_csv('../resource/caries/labelbox/txt-skip/'+i,sep=' ', header=None)\n",
    "        r[0] = r[0].replace({'carious':'caries'})\n",
    "        r.to_csv('../resource/caries/labelbox/txt/'+i, index=False, sep= ' ', header=None)    \n",
    "    except:\n",
    "        pandas.DataFrame({}).to_csv('../resource/caries/labelbox/txt/'+i, index=False, sep= ' ', header=None)  \n",
    "    continue"
   ]
  },
  {
   "cell_type": "code",
   "execution_count": 24,
   "metadata": {},
   "outputs": [],
   "source": []
  },
  {
   "cell_type": "code",
   "execution_count": 27,
   "metadata": {},
   "outputs": [],
   "source": [
    "# pandas.DataFrame({}).to_csv('../resource/caries/labelbox/txt/'+i, index=False, sep= ' ', header=None)  "
   ]
  },
  {
   "cell_type": "code",
   "execution_count": null,
   "metadata": {},
   "outputs": [],
   "source": []
  }
 ],
 "metadata": {
  "kernelspec": {
   "display_name": "Python 3.7.13 ('dentalbook')",
   "language": "python",
   "name": "python3"
  },
  "language_info": {
   "codemirror_mode": {
    "name": "ipython",
    "version": 3
   },
   "file_extension": ".py",
   "mimetype": "text/x-python",
   "name": "python",
   "nbconvert_exporter": "python",
   "pygments_lexer": "ipython3",
   "version": "3.7.13"
  },
  "orig_nbformat": 4,
  "vscode": {
   "interpreter": {
    "hash": "5fd9f49eb449caab939c5f758b89916c6cadd58c90df6eb1a5b666be347280ec"
   }
  }
 },
 "nbformat": 4,
 "nbformat_minor": 2
}
