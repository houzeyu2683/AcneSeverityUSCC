{
 "cells": [
  {
   "cell_type": "markdown",
   "metadata": {},
   "source": [
    "# Image capture"
   ]
  },
  {
   "cell_type": "code",
   "execution_count": null,
   "metadata": {},
   "outputs": [],
   "source": [
    "import pymysql\n",
    "import pandas\n",
    "import re\n",
    "import tqdm\n",
    "import sqlalchemy\n",
    "import PIL.Image\n",
    "import os\n",
    "import matplotlib.pyplot as plt \n",
    "import boto3\n",
    "import multiprocessing\n",
    "import io\n",
    "import datetime\n",
    "import dotenv "
   ]
  },
  {
   "cell_type": "code",
   "execution_count": null,
   "metadata": {},
   "outputs": [],
   "source": [
    "environment = dotenv.dotenv_values('environment')\n",
    "source = 'temporary storage'\n",
    "checkpoint = 'temporary storage'"
   ]
  },
  {
   "cell_type": "code",
   "execution_count": null,
   "metadata": {},
   "outputs": [],
   "source": [
    "join = pandas.read_csv(os.path.join(source, 'join.csv'))\n",
    "print(join.shape)\n",
    "join.head()"
   ]
  },
  {
   "cell_type": "code",
   "execution_count": null,
   "metadata": {},
   "outputs": [],
   "source": [
    "client = boto3.client(\n",
    "    's3',\n",
    "    aws_access_key_id=environment['AWS_ACCESS_KEY_ID'],\n",
    "    aws_secret_access_key=environment['AWS_SECRET_ACCESS_KEY']\n",
    ")"
   ]
  },
  {
   "cell_type": "code",
   "execution_count": null,
   "metadata": {},
   "outputs": [],
   "source": [
    "bucket = 'aibots'\n",
    "error = []\n",
    "for index, item in tqdm.tqdm(join.iterrows(), total=len(join)):\n",
    "    \n",
    "    link = os.path.join(checkpoint, item['vote'], item['image'])\n",
    "    os.makedirs(os.path.dirname(link), exist_ok=True)\n",
    "    try: client.download_file(bucket, 'data/doe/{}'.format(item['image']), link)\n",
    "    except: error += [(item['vote'], item['image'])]\n",
    "    continue\n"
   ]
  },
  {
   "cell_type": "code",
   "execution_count": null,
   "metadata": {},
   "outputs": [],
   "source": [
    "error"
   ]
  },
  {
   "cell_type": "markdown",
   "metadata": {},
   "source": [
    "---"
   ]
  }
 ],
 "metadata": {
  "kernelspec": {
   "display_name": "Python 3.9.13 ('lab')",
   "language": "python",
   "name": "python3"
  },
  "language_info": {
   "codemirror_mode": {
    "name": "ipython",
    "version": 3
   },
   "file_extension": ".py",
   "mimetype": "text/x-python",
   "name": "python",
   "nbconvert_exporter": "python",
   "pygments_lexer": "ipython3",
   "version": "3.9.13"
  },
  "orig_nbformat": 4,
  "vscode": {
   "interpreter": {
    "hash": "cdffae01e19bc37b800380f1755d295b825da974ecd3665526396e0d7a13fb7e"
   }
  }
 },
 "nbformat": 4,
 "nbformat_minor": 2
}
