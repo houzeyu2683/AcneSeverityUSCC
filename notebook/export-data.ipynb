{
 "cells": [
  {
   "cell_type": "markdown",
   "metadata": {},
   "source": [
    "# First project dataset export"
   ]
  },
  {
   "cell_type": "code",
   "execution_count": null,
   "metadata": {},
   "outputs": [],
   "source": [
    "import labelbox\n",
    "import os\n",
    "import dotenv\n",
    "import requests\n",
    "import tqdm\n",
    "import io\n",
    "import pandas\n",
    "import cv2\n",
    "import matplotlib.pyplot\n",
    "import PIL.Image\n",
    "import json\n",
    "import sklearn.model_selection\n",
    "import yaml\n",
    "import os\n",
    "import numpy\n",
    "import time\n",
    "from contextlib import suppress\n",
    "from xml.dom.minidom import parseString\n",
    "from lxml.etree import Element, SubElement, tostring\n",
    "%matplotlib inline"
   ]
  },
  {
   "cell_type": "code",
   "execution_count": null,
   "metadata": {},
   "outputs": [],
   "source": [
    "HERE   = 'notebook'\n",
    "ROOT   = os.getcwd().replace(HERE, \"\")\n",
    "ENV    = 'env'\n",
    "CONFIG = dotenv.dotenv_values(os.path.join(ROOT, ENV))\n",
    "SOURCE = 'resource/caries/labelbox'"
   ]
  },
  {
   "cell_type": "code",
   "execution_count": null,
   "metadata": {},
   "outputs": [],
   "source": [
    "classification = {\n",
    "    \"normal_crevice\":{'label':0, \"color\":(0, 255, 0)},\n",
    "    \"caries\":{'label':1, \"color\":(255, 0, 0)}\n",
    "}"
   ]
  },
  {
   "cell_type": "markdown",
   "metadata": {},
   "source": [
    "# Download data"
   ]
  },
  {
   "cell_type": "markdown",
   "metadata": {},
   "source": [
    "Create the client and conect to **Labelbox** service."
   ]
  },
  {
   "cell_type": "code",
   "execution_count": null,
   "metadata": {},
   "outputs": [],
   "source": [
    "client  = labelbox.Client(api_key=CONFIG['API_KEY'])\n",
    "project = client.get_project(CONFIG['PROJECT_ID'])\n",
    "dataset = client.get_dataset(CONFIG['DATASET_ID'])"
   ]
  },
  {
   "cell_type": "markdown",
   "metadata": {},
   "source": [
    "Export the image from **Labelbox** service."
   ]
  },
  {
   "cell_type": "code",
   "execution_count": null,
   "metadata": {},
   "outputs": [],
   "source": [
    "# def detect(image, size=50):\n",
    "\n",
    "#     image = numpy.array(image.convert('L'))\n",
    "#     (height, width) = image.shape\n",
    "#     center = (int(width / 2.0), int(height / 2.0))\n",
    "#     transform = numpy.fft.fft2(image)\n",
    "#     shift = numpy.fft.fftshift(transform)\n",
    "#     shift[center[1] - size:center[1] + size, center[0] - size:center[0] + size] = 0\n",
    "#     shift = numpy.fft.ifftshift(shift)\n",
    "#     frequency = numpy.fft.ifft2(shift)\n",
    "#     value = 20 * numpy.log(1+numpy.abs(frequency))\n",
    "#     score = numpy.mean(value)\n",
    "#     return(score)\n",
    "\n",
    "# def detect(image):\n",
    "#\n",
    "#     image = numpy.array(image.convert('L'))\n",
    "#     score = cv2.Laplacian(image, cv2.CV_64F).var()\n",
    "#     return(score)"
   ]
  },
  {
   "cell_type": "code",
   "execution_count": null,
   "metadata": {},
   "outputs": [],
   "source": [
    "# def parse(annotation, image):\n",
    "def parse(annotation):\n",
    "    \n",
    "    # size =  image.size\n",
    "    category, top, left, height, width = [], [], [], [], []\n",
    "    if(annotation!=[]):\n",
    "        \n",
    "        for _, a in enumerate(annotation):\n",
    "            \n",
    "            \n",
    "            c, t, l, h, w = a['value'], a['bbox']['top'], a['bbox']['left'], a['bbox']['height'], a['bbox']['width']\n",
    "            if(c=='carious'): c = 'caries'\n",
    "            pass\n",
    "            # if(h<50 or w<25):\n",
    "\n",
    "            #     x = int(numpy.mean([l, l+w]))\n",
    "            #     y = int(numpy.mean([t, t+h]))\n",
    "            #     if(w<25): w = 2 * w\n",
    "            #     if(h<50): h = 2 * h\n",
    "            #     l = max(x-int(w / 2), 0)\n",
    "            #     t = max(y-int(h / 2), 0)\n",
    "            #     if(l + w > size[1]): w = size[1] - l\n",
    "            #     if(t + h > size[0]): h = size[0] - t\n",
    "            #     print(l, t, w, h)\n",
    "            #     pass\n",
    "            # if((h<50) or (w<50)):\n",
    "\n",
    "            #     x = int(numpy.mean([l, l+w]))\n",
    "            #     y = int(numpy.mean([t, t+h]))\n",
    "            #     t = y - 30\n",
    "            #     l = x - 30\n",
    "            #     h = 60\n",
    "            #     w = 60\n",
    "            #     pass\n",
    "            \n",
    "            # single = image.crop((l, t, l+w, t+h))\n",
    "            # s = detect(single, size=30)\n",
    "            # if(s < 10): \n",
    "                \n",
    "            #     print(s)\n",
    "            #     continue\n",
    "\n",
    "            category += [c]\n",
    "            top += [t]\n",
    "            left += [l]\n",
    "            height += [h]\n",
    "            width += [w]\n",
    "            continue\n",
    "\n",
    "        pass\n",
    "    \n",
    "    y = {\"category\":category, \"left\":left, \"top\":top, \"width\":width, \"height\":height}\n",
    "    y = pandas.DataFrame(y)\n",
    "    return(y)"
   ]
  },
  {
   "cell_type": "code",
   "execution_count": null,
   "metadata": {},
   "outputs": [],
   "source": [
    "loop = list(project.labels())\n",
    "for item in tqdm.tqdm(loop):\n",
    "    \n",
    "    data = dict()\n",
    "    data['id'] = item.data_row().external_id.split('.')[0]\n",
    "    data['image'] = PIL.Image.open(io.BytesIO(requests.get(item.data_row().row_data).content))\n",
    "    data['annotation'] = json.loads(item.label)['objects']\n",
    "    pass\n",
    "\n",
    "    \n",
    "    # data['annotation'] = parse(data['annotation'], data['image'])\n",
    "    data['annotation'] = parse(data['annotation'])\n",
    "    pass\n",
    "\n",
    "    storage = dict()\n",
    "    storage['image'] = os.path.join(ROOT, SOURCE, \"jpg/\")\n",
    "    storage['annotation'] = os.path.join(ROOT, SOURCE, \"txt/\")\n",
    "    os.makedirs(storage['image'], exist_ok=True)\n",
    "    os.makedirs(storage['annotation'], exist_ok=True)\n",
    "    pass\n",
    "\n",
    "    path = dict()\n",
    "    path['image'] = os.path.join(storage['image'], \"{}.jpg\".format(data['id']))\n",
    "    path['annotation'] = os.path.join(storage['annotation'], \"{}.txt\".format(data['id']))\n",
    "    pass\n",
    "\n",
    "    data['image'].save(path['image'])\n",
    "    data['annotation'].to_csv(path['annotation'], index=False, header=0, sep=\" \")\n",
    "    time.sleep(0.5)\n",
    "    continue"
   ]
  },
  {
   "cell_type": "markdown",
   "metadata": {},
   "source": [
    "Ground truth storage."
   ]
  },
  {
   "cell_type": "code",
   "execution_count": null,
   "metadata": {},
   "outputs": [],
   "source": [
    "def preview(file='671', show=False):\n",
    "    \n",
    "    image = os.path.join(ROOT, SOURCE, \"jpg\", \"{}.jpg\".format(file))\n",
    "    annotation = os.path.join(ROOT, SOURCE, \"txt\", \"{}.txt\".format(file))\n",
    "    pass\n",
    "    \n",
    "    picture = cv2.imread(image)\n",
    "\n",
    "    with suppress(pandas.errors.EmptyDataError):\n",
    "    \n",
    "        annotation = pandas.read_csv(annotation, header=None, sep=' ')\n",
    "        for _, item in  annotation.iterrows():\n",
    "\n",
    "            start = item[1], item[2]\n",
    "            end = item[1]+item[3], item[2]+item[4]\n",
    "            color = classification.get(item[0])['color']\n",
    "            cv2.rectangle(picture, start, end, color, 4)\n",
    "            pass\n",
    "        \n",
    "        pass\n",
    "\n",
    "    picture = PIL.Image.fromarray(picture)    \n",
    "    if(show):\n",
    "\n",
    "        matplotlib.pyplot.subplot(1,1,1)\n",
    "        matplotlib.pyplot.axis('off')\n",
    "        matplotlib.pyplot.imshow(picture)\n",
    "        pass\n",
    "    \n",
    "    return(picture)"
   ]
  },
  {
   "cell_type": "code",
   "execution_count": null,
   "metadata": {},
   "outputs": [],
   "source": [
    "loop = os.listdir(os.path.join(ROOT, SOURCE, 'jpg/'))\n",
    "for i in loop:\n",
    "    \n",
    "    file = i.split('.')[0]\n",
    "    picture = preview(file, False)\n",
    "    storage = os.path.join(ROOT, 'resource/caries/', 'truth/')\n",
    "    os.makedirs(storage, exist_ok=True)\n",
    "    picture.save(os.path.join(storage, i))\n",
    "    continue"
   ]
  },
  {
   "cell_type": "code",
   "execution_count": null,
   "metadata": {},
   "outputs": [],
   "source": [
    "mode = 'jpg'\n",
    "loop = os.listdir(os.path.join(ROOT, SOURCE, mode))\n",
    "identification = [i.split('.')[0] for i in loop]\n",
    "with open(os.path.join(ROOT, 'resource/caries/', 'identification.txt'), 'w') as paper:\n",
    "\n",
    "    for i in identification: paper.write(i + '\\n')\n",
    "    pass"
   ]
  },
  {
   "cell_type": "markdown",
   "metadata": {},
   "source": [
    "---"
   ]
  },
  {
   "cell_type": "markdown",
   "metadata": {},
   "source": [
    "# Second project datset export "
   ]
  },
  {
   "cell_type": "code",
   "execution_count": 1,
   "metadata": {},
   "outputs": [],
   "source": [
    "import labelbox\n",
    "import os\n",
    "import dotenv\n",
    "import requests\n",
    "import tqdm\n",
    "import io\n",
    "import pandas\n",
    "import cv2\n",
    "import matplotlib.pyplot\n",
    "import PIL.Image\n",
    "import json\n",
    "import sklearn.model_selection\n",
    "import yaml\n",
    "import os\n",
    "import numpy\n",
    "import time\n",
    "from contextlib import suppress\n",
    "from xml.dom.minidom import parseString\n",
    "from lxml.etree import Element, SubElement, tostring\n",
    "%matplotlib inline"
   ]
  },
  {
   "cell_type": "code",
   "execution_count": 2,
   "metadata": {},
   "outputs": [],
   "source": [
    "HERE   = 'notebook'\n",
    "ROOT   = os.getcwd().replace(HERE, \"\")\n",
    "ENV    = 'env'\n",
    "CONFIG = dotenv.dotenv_values(os.path.join(ROOT, ENV))\n",
    "SOURCE = 'resource/adult-dentition/labelbox'"
   ]
  },
  {
   "cell_type": "code",
   "execution_count": 3,
   "metadata": {},
   "outputs": [],
   "source": [
    "classification = {\n",
    "    \"臼齒\":{'label':0, \"color\":(0, 255, 0)},\n",
    "    \"智齒\":{'label':1, \"color\":(255, 0, 0)}\n",
    "}"
   ]
  },
  {
   "cell_type": "markdown",
   "metadata": {},
   "source": [
    "# Download data"
   ]
  },
  {
   "cell_type": "markdown",
   "metadata": {},
   "source": [
    "Create the client and conect to **Labelbox** service."
   ]
  },
  {
   "cell_type": "code",
   "execution_count": 4,
   "metadata": {},
   "outputs": [],
   "source": [
    "client  = labelbox.Client(api_key=CONFIG['API_KEY'])\n",
    "project = client.get_project('cl6k7sksn0xvf07wyaxkx1ekh')"
   ]
  },
  {
   "cell_type": "code",
   "execution_count": 5,
   "metadata": {},
   "outputs": [],
   "source": [
    "def parse(annotation):\n",
    "    \n",
    "    category, top, left, height, width = [], [], [], [], []\n",
    "    if(annotation!=[]):\n",
    "        \n",
    "        for _, a in enumerate(annotation):\n",
    "            \n",
    "            \n",
    "            c, t, l, h, w = a['value'], a['bbox']['top'], a['bbox']['left'], a['bbox']['height'], a['bbox']['width']\n",
    "            category += [c]\n",
    "            top += [t]\n",
    "            left += [l]\n",
    "            height += [h]\n",
    "            width += [w]\n",
    "            continue\n",
    "\n",
    "        pass\n",
    "    \n",
    "    y = {\"category\":category, \"left\":left, \"top\":top, \"width\":width, \"height\":height}\n",
    "    y = pandas.DataFrame(y)\n",
    "    return(y)"
   ]
  },
  {
   "cell_type": "code",
   "execution_count": 6,
   "metadata": {},
   "outputs": [
    {
     "name": "stderr",
     "output_type": "stream",
     "text": [
      "100%|██████████| 719/719 [38:03<00:00,  3.18s/it]\n"
     ]
    }
   ],
   "source": [
    "loop = list(project.labels())\n",
    "for item in tqdm.tqdm(loop):\n",
    "    \n",
    "    data = dict()\n",
    "    data['id'] = item.data_row().external_id.split('.')[0]\n",
    "    data['image'] = PIL.Image.open(io.BytesIO(requests.get(item.data_row().row_data).content))\n",
    "    data['annotation'] = json.loads(item.label)['objects']\n",
    "    pass\n",
    "\n",
    "    data['annotation'] = parse(data['annotation'])\n",
    "    pass\n",
    "\n",
    "    storage = dict()\n",
    "    storage['image'] = os.path.join(ROOT, SOURCE, \"jpg/\")\n",
    "    storage['annotation'] = os.path.join(ROOT, SOURCE, \"txt/\")\n",
    "    os.makedirs(storage['image'], exist_ok=True)\n",
    "    os.makedirs(storage['annotation'], exist_ok=True)\n",
    "    pass\n",
    "\n",
    "    path = dict()\n",
    "    path['image'] = os.path.join(storage['image'], \"{}.jpg\".format(data['id']))\n",
    "    path['annotation'] = os.path.join(storage['annotation'], \"{}.txt\".format(data['id']))\n",
    "    pass\n",
    "\n",
    "    data['image'].save(path['image'])\n",
    "    data['annotation'].to_csv(path['annotation'], index=False, header=0, sep=\" \")\n",
    "    time.sleep(1)\n",
    "    continue"
   ]
  },
  {
   "cell_type": "markdown",
   "metadata": {},
   "source": [
    "Ground truth storage."
   ]
  },
  {
   "cell_type": "code",
   "execution_count": 7,
   "metadata": {},
   "outputs": [],
   "source": [
    "def preview(file='671', show=False):\n",
    "    \n",
    "    image = os.path.join(ROOT, SOURCE, \"jpg\", \"{}.jpg\".format(file))\n",
    "    annotation = os.path.join(ROOT, SOURCE, \"txt\", \"{}.txt\".format(file))\n",
    "    pass\n",
    "    \n",
    "    picture = cv2.imread(image)\n",
    "\n",
    "    with suppress(pandas.errors.EmptyDataError):\n",
    "    \n",
    "        annotation = pandas.read_csv(annotation, header=None, sep=' ')\n",
    "        for _, item in  annotation.iterrows():\n",
    "\n",
    "            start = item[1], item[2]\n",
    "            end = item[1]+item[3], item[2]+item[4]\n",
    "            color = classification.get(item[0])['color']\n",
    "            cv2.rectangle(picture, start, end, color, 4)\n",
    "            pass\n",
    "        \n",
    "        pass\n",
    "\n",
    "    picture = PIL.Image.fromarray(picture)    \n",
    "    if(show):\n",
    "\n",
    "        matplotlib.pyplot.subplot(1,1,1)\n",
    "        matplotlib.pyplot.axis('off')\n",
    "        matplotlib.pyplot.imshow(picture)\n",
    "        pass\n",
    "    \n",
    "    return(picture)"
   ]
  },
  {
   "cell_type": "code",
   "execution_count": 8,
   "metadata": {},
   "outputs": [],
   "source": [
    "loop = os.listdir(os.path.join(ROOT, SOURCE, 'jpg/'))\n",
    "for i in loop:\n",
    "    \n",
    "    file = i.split('.')[0]\n",
    "    picture = preview(file, False)\n",
    "    storage = os.path.join(ROOT, 'resource/adult-dentition/', 'truth/')\n",
    "    os.makedirs(storage, exist_ok=True)\n",
    "    picture.save(os.path.join(storage, i))\n",
    "    continue"
   ]
  },
  {
   "cell_type": "code",
   "execution_count": null,
   "metadata": {},
   "outputs": [],
   "source": [
    "mode = 'jpg'\n",
    "loop = os.listdir(os.path.join(ROOT, SOURCE, mode))\n",
    "identification = [i.split('.')[0] for i in loop]\n",
    "with open(os.path.join(ROOT, 'resource/adult-dentition/', 'identification.txt'), 'w') as paper:\n",
    "\n",
    "    for i in identification: paper.write(i + '\\n')\n",
    "    pass"
   ]
  },
  {
   "cell_type": "markdown",
   "metadata": {},
   "source": [
    "---"
   ]
  },
  {
   "cell_type": "markdown",
   "metadata": {},
   "source": [
    "以下省略"
   ]
  },
  {
   "cell_type": "code",
   "execution_count": null,
   "metadata": {},
   "outputs": [],
   "source": []
  },
  {
   "cell_type": "markdown",
   "metadata": {},
   "source": [
    "Save box image."
   ]
  },
  {
   "cell_type": "code",
   "execution_count": null,
   "metadata": {},
   "outputs": [],
   "source": [
    "loop = pandas.read_csv(os.path.join(ROOT, 'resource/caries', 'identification.txt'), header=None)[0].tolist()\n",
    "for i in loop:\n",
    "    \n",
    "    skip = False\n",
    "    try:\n",
    "\n",
    "        image = PIL.Image.open(os.path.join(ROOT, SOURCE, 'jpg', \"{}.jpg\".format(i)))\n",
    "        annotation = pandas.read_csv(os.path.join(ROOT, SOURCE, 'txt', \"{}.txt\".format(i)), sep=\" \", header=None)\n",
    "        pass\n",
    "\n",
    "    except:\n",
    "\n",
    "        skip = True\n",
    "        pass\n",
    "\n",
    "    if(not skip):\n",
    "\n",
    "        for number, item in annotation.iterrows():\n",
    "\n",
    "            storage = os.path.join(ROOT, 'resource/caries/classification/{}'.format(item[0]))\n",
    "            os.makedirs(storage, exist_ok=True)\n",
    "            (x, y, w, h) = item[1:].tolist()\n",
    "            thing = image.crop((x, y, x+w, y+h))\n",
    "            thing.save(os.path.join(storage, '{}_{}.jpg'.format(i, number)))\n",
    "            pass\n",
    "        \n",
    "        pass\n",
    "\n",
    "    continue"
   ]
  },
  {
   "cell_type": "markdown",
   "metadata": {},
   "source": [
    "---"
   ]
  },
  {
   "cell_type": "markdown",
   "metadata": {},
   "source": [
    "針對 Box 擷取的特徵工程(skip)"
   ]
  },
  {
   "cell_type": "code",
   "execution_count": null,
   "metadata": {},
   "outputs": [],
   "source": [
    "import labelbox\n",
    "import os\n",
    "import dotenv\n",
    "import requests\n",
    "import tqdm\n",
    "import io\n",
    "import pandas\n",
    "import cv2\n",
    "import matplotlib.pyplot\n",
    "import PIL.Image\n",
    "import json\n",
    "import sklearn.model_selection\n",
    "import yaml\n",
    "import os\n",
    "import numpy\n",
    "import time\n",
    "from contextlib import suppress\n",
    "from xml.dom.minidom import parseString\n",
    "from lxml.etree import Element, SubElement, tostring\n",
    "%matplotlib inline"
   ]
  },
  {
   "cell_type": "code",
   "execution_count": null,
   "metadata": {},
   "outputs": [],
   "source": [
    "HERE   = 'notebook'\n",
    "ROOT   = os.getcwd().replace(HERE, \"\")\n",
    "ENV    = 'env'\n",
    "CONFIG = dotenv.dotenv_values(os.path.join(ROOT, ENV))\n",
    "SOURCE = 'resource/carious/labelbox'"
   ]
  },
  {
   "cell_type": "code",
   "execution_count": null,
   "metadata": {},
   "outputs": [],
   "source": [
    "loop = pandas.read_csv(os.path.join(ROOT, 'resource/carious', 'identification.txt'), header=None)[0].tolist()\n",
    "for i in loop:\n",
    "    \n",
    "    skip = False\n",
    "    try:\n",
    "\n",
    "        image = PIL.Image.open(os.path.join(ROOT, SOURCE, 'jpg', \"{}.jpg\".format(i)))\n",
    "        annotation = pandas.read_csv(os.path.join(ROOT, SOURCE, 'txt', \"{}.txt\".format(i)), sep=\" \", header=None)\n",
    "        pass\n",
    "\n",
    "    except:\n",
    "\n",
    "        skip = True\n",
    "        pass\n",
    "\n",
    "    if(not skip):\n",
    "\n",
    "        for number, item in annotation.iterrows():\n",
    "\n",
    "            storage = os.path.join(ROOT, 'resource/carious/classification/{}'.format(item[0]))\n",
    "            os.makedirs(storage, exist_ok=True)\n",
    "            (x, y, w, h) = item[1:].tolist()\n",
    "            if(w<32): \n",
    "\n",
    "                x = int(x-(w*1.0))\n",
    "                w = int(w+(w*1.0*2))\n",
    "                pass\n",
    "\n",
    "            if(h<32): \n",
    "\n",
    "                y = int(y-(h*0.5))\n",
    "                h = int(h+(h*0.5*2))\n",
    "                pass\n",
    "\n",
    "            thing = image.crop((x, y, x+w, y+h))\n",
    "            thing.save(os.path.join(storage, '{}_{}.jpg'.format(i, number)))\n",
    "            if('{}_{}.jpg'.format(i, number)==\"2C_1.jpg\"): print(thing.size)\n",
    "            pass\n",
    "        \n",
    "        pass\n",
    "\n",
    "    continue"
   ]
  },
  {
   "cell_type": "code",
   "execution_count": null,
   "metadata": {},
   "outputs": [],
   "source": []
  }
 ],
 "metadata": {
  "kernelspec": {
   "display_name": "Python 3.9.12 ('base')",
   "language": "python",
   "name": "python3"
  },
  "language_info": {
   "codemirror_mode": {
    "name": "ipython",
    "version": 3
   },
   "file_extension": ".py",
   "mimetype": "text/x-python",
   "name": "python",
   "nbconvert_exporter": "python",
   "pygments_lexer": "ipython3",
   "version": "3.7.13"
  },
  "orig_nbformat": 4,
  "vscode": {
   "interpreter": {
    "hash": "d107257e8c9ff4bc669fa7fc5291ab5a119f0dad008367eaf600158d5858c3d9"
   }
  }
 },
 "nbformat": 4,
 "nbformat_minor": 2
}
